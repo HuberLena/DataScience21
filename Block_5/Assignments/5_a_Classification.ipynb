{
 "cells": [
  {
   "cell_type": "markdown",
   "metadata": {},
   "source": [
    "# Block 5 Exercise 1: Classification"
   ]
  },
  {
   "cell_type": "markdown",
   "metadata": {},
   "source": [
    "## MNIST Data\n",
    "In these exercises we are using the MNIST data set on handwritten digits to compare supervised classification algorithms...   "
   ]
  },
  {
   "cell_type": "code",
   "execution_count": 98,
   "metadata": {},
   "outputs": [],
   "source": [
    "#imports \n",
    "import matplotlib.pyplot as plt\n",
    "import numpy as np\n",
    "from sklearn.datasets import fetch_openml"
   ]
  },
  {
   "cell_type": "code",
   "execution_count": 99,
   "metadata": {},
   "outputs": [],
   "source": [
    "# Load data from https://www.openml.org/d/554\n",
    "X, y = fetch_openml('mnist_784', version=1, return_X_y=True)\n"
   ]
  },
  {
   "cell_type": "code",
   "execution_count": 100,
   "metadata": {},
   "outputs": [
    {
     "data": {
      "text/plain": [
       "(70000, 784)"
      ]
     },
     "execution_count": 100,
     "metadata": {},
     "output_type": "execute_result"
    }
   ],
   "source": [
    "#the full MNIST data set contains 70k samples of digits 0-9 as 28*28 gray scale images (represented as 784 dim vectors)\n",
    "np.shape(X)"
   ]
  },
  {
   "cell_type": "markdown",
   "metadata": {},
   "source": [
    "### E1.1: Use SkLearn methods to split the MNIST data into random train and test sets. Use 60k samples for training.  \n"
   ]
  },
  {
   "cell_type": "code",
   "execution_count": 101,
   "metadata": {},
   "outputs": [],
   "source": [
    "#Split inti train and test data with Sklearn method\n",
    "\n",
    "from sklearn.model_selection import train_test_split\n",
    "\n",
    "X_train, X_test, y_train, y_test = train_test_split( X, y, test_size=0.1)  #90% des Datensatzes sind Traingsdaten und 10% davon sind Testdaten"
   ]
  },
  {
   "cell_type": "code",
   "execution_count": 102,
   "metadata": {},
   "outputs": [
    {
     "name": "stdout",
     "output_type": "stream",
     "text": [
      "X_train: (63000, 784)\n",
      "Y_train: (63000,)\n",
      "x_test:  (7000, 784)\n",
      "y_test:  (7000,)\n"
     ]
    }
   ],
   "source": [
    "print('X_train: ' + str(X_train.shape))\n",
    "print('Y_train: ' + str(y_train.shape))\n",
    "print('x_test:  '  + str(X_test.shape))\n",
    "print('y_test:  '  + str(y_test.shape))"
   ]
  },
  {
   "cell_type": "markdown",
   "metadata": {},
   "source": [
    "### E1.2: Visualize the data.\n",
    "* Plot some data samples as images (use https://matplotlib.org/3.1.0/api/_as_gen/matplotlib.pyplot.imshow.html)"
   ]
  },
  {
   "cell_type": "code",
   "execution_count": 103,
   "metadata": {},
   "outputs": [
    {
     "data": {
      "text/plain": [
       "<matplotlib.image.AxesImage at 0x144f2621520>"
      ]
     },
     "execution_count": 103,
     "metadata": {},
     "output_type": "execute_result"
    },
    {
     "data": {
      "image/png": "[encoded data removed]",
      "text/plain": [
       "<Figure size 432x288 with 1 Axes>"
      ]
     },
     "metadata": {
      "needs_background": "light"
     },
     "output_type": "display_data"
    }
   ],
   "source": [
    "#Data visualization\n",
    "#The first row represents the first image, it is 28X28 image (stored as 784 pixels)\n",
    "\n",
    "img= X_train[0].reshape(28,28)\n",
    "\n",
    "plt.imshow(img, cmap=\"gray\")\n"
   ]
  },
  {
   "cell_type": "markdown",
   "metadata": {},
   "source": [
    "### E1.3: Train models on the train data.\n",
    "Train the following models with default parameters on the train data.\n",
    "* [Naive Bayes](https://scikit-learn.org/stable/modules/generated/sklearn.naive_bayes.GaussianNB.html#sklearn.naive_bayes.GaussianNB) (assuming a Gaussian distribution of the data)\n",
    "* [Simple linear model](https://scikit-learn.org/stable/modules/generated/sklearn.linear_model.SGDClassifier.html#sklearn.linear_model.SGDClassifier)\n",
    "   * use ``loss='log'`` to reproduce our logistic loss function \n",
    "* [Random Forest](https://scikit-learn.org/stable/modules/generated/sklearn.ensemble.RandomForestClassifier.html#sklearn.ensemble.RandomForestClassifier)\n",
    "\n",
    "Compare the training accuracy (https://scikit-learn.org/stable/modules/generated/sklearn.metrics.accuracy_score.html#sklearn.metrics.accuracy_score) and [confusion matrix](https://scikit-learn.org/stable/modules/generated/sklearn.metrics.confusion_matrix.html#sklearn.metrics.confusion_matrix) for all three models."
   ]
  },
  {
   "cell_type": "code",
   "execution_count": 104,
   "metadata": {},
   "outputs": [],
   "source": [
    "#models festlegen\n",
    "\n",
    "#Naive Bayes\n",
    "from sklearn.naive_bayes import GaussianNB\n",
    "gnb = GaussianNB()\n",
    "\n",
    "#Simple lienar Model\n",
    "from sklearn import linear_model\n",
    "linear = linear_model.SGDClassifier(loss = 'log', max_iter = 40)\n",
    "\n",
    "#Random Forest\n",
    "from sklearn.ensemble import RandomForestClassifier\n",
    "forest = RandomForestClassifier()"
   ]
  },
  {
   "cell_type": "code",
   "execution_count": 105,
   "metadata": {},
   "outputs": [
    {
     "data": {
      "text/plain": [
       "GaussianNB()"
      ]
     },
     "execution_count": 105,
     "metadata": {},
     "output_type": "execute_result"
    }
   ],
   "source": [
    "gnb.fit(X_train, y_train)"
   ]
  },
  {
   "cell_type": "code",
   "execution_count": 106,
   "metadata": {},
   "outputs": [
    {
     "name": "stderr",
     "output_type": "stream",
     "text": [
      "C:\\Users\\Lena Huber\\anaconda3\\lib\\site-packages\\sklearn\\linear_model\\_stochastic_gradient.py:570: ConvergenceWarning: Maximum number of iteration reached before convergence. Consider increasing max_iter to improve the fit.\n",
      "  warnings.warn(\"Maximum number of iteration reached before \"\n"
     ]
    },
    {
     "data": {
      "text/plain": [
       "SGDClassifier(loss='log', max_iter=40)"
      ]
     },
     "execution_count": 106,
     "metadata": {},
     "output_type": "execute_result"
    }
   ],
   "source": [
    "linear.fit(X_train, y_train)"
   ]
  },
  {
   "cell_type": "code",
   "execution_count": 107,
   "metadata": {},
   "outputs": [
    {
     "data": {
      "text/plain": [
       "RandomForestClassifier()"
      ]
     },
     "execution_count": 107,
     "metadata": {},
     "output_type": "execute_result"
    }
   ],
   "source": [
    "forest.fit(X_train, y_train)"
   ]
  },
  {
   "cell_type": "markdown",
   "metadata": {},
   "source": [
    "Accurancy Score "
   ]
  },
  {
   "cell_type": "code",
   "execution_count": 108,
   "metadata": {},
   "outputs": [],
   "source": [
    "from sklearn.metrics import accuracy_score\n",
    "from sklearn.metrics import confusion_matrix"
   ]
  },
  {
   "cell_type": "code",
   "execution_count": 109,
   "metadata": {},
   "outputs": [
    {
     "data": {
      "text/plain": [
       "0.5606666666666666"
      ]
     },
     "execution_count": 109,
     "metadata": {},
     "output_type": "execute_result"
    }
   ],
   "source": [
    "#Naive Bayes\n",
    "prediction_b = gnb.predict(X_train)\n",
    "accuracy_score(y_train, prediction_b )"
   ]
  },
  {
   "cell_type": "code",
   "execution_count": 110,
   "metadata": {},
   "outputs": [
    {
     "data": {
      "text/plain": [
       "array([[ 672,  887,  224,  285,  101,   43,  867,  227, 1333, 1591],\n",
       "       [ 800,  940,  250,  342,  122,   43, 1062,  216, 1497, 1795],\n",
       "       [ 755,  843,  217,  308,   84,   49,  949,  219, 1326, 1561],\n",
       "       [ 707,  842,  231,  319,  115,   41, 1016,  217, 1357, 1588],\n",
       "       [ 706,  803,  222,  290,  105,   51,  873,  216, 1401, 1450],\n",
       "       [ 618,  743,  216,  261,   93,   38,  838,  231, 1201, 1415],\n",
       "       [ 639,  785,  212,  303,  106,   52,  982,  216, 1357, 1554],\n",
       "       [ 694,  866,  256,  305,  101,   45,  960,  248, 1407, 1686],\n",
       "       [ 638,  818,  207,  273,  115,   44,  890,  218, 1306, 1630],\n",
       "       [ 702,  843,  221,  289,  112,   57,  889,  201, 1326, 1635]],\n",
       "      dtype=int64)"
      ]
     },
     "execution_count": 110,
     "metadata": {},
     "output_type": "execute_result"
    }
   ],
   "source": [
    "#Confusion Matrix Naive Bayes\n",
    "confusion_matrix(y_train,prediction )"
   ]
  },
  {
   "cell_type": "code",
   "execution_count": 111,
   "metadata": {},
   "outputs": [
    {
     "data": {
      "text/plain": [
       "0.8681746031746032"
      ]
     },
     "execution_count": 111,
     "metadata": {},
     "output_type": "execute_result"
    }
   ],
   "source": [
    "#Linear\n",
    "prediction_l = linear.predict(X_train)\n",
    "accuracy_score(y_train, prediction_l)"
   ]
  },
  {
   "cell_type": "code",
   "execution_count": 112,
   "metadata": {},
   "outputs": [
    {
     "data": {
      "text/plain": [
       "array([[ 672,  887,  224,  285,  101,   43,  867,  227, 1333, 1591],\n",
       "       [ 800,  940,  250,  342,  122,   43, 1062,  216, 1497, 1795],\n",
       "       [ 755,  843,  217,  308,   84,   49,  949,  219, 1326, 1561],\n",
       "       [ 707,  842,  231,  319,  115,   41, 1016,  217, 1357, 1588],\n",
       "       [ 706,  803,  222,  290,  105,   51,  873,  216, 1401, 1450],\n",
       "       [ 618,  743,  216,  261,   93,   38,  838,  231, 1201, 1415],\n",
       "       [ 639,  785,  212,  303,  106,   52,  982,  216, 1357, 1554],\n",
       "       [ 694,  866,  256,  305,  101,   45,  960,  248, 1407, 1686],\n",
       "       [ 638,  818,  207,  273,  115,   44,  890,  218, 1306, 1630],\n",
       "       [ 702,  843,  221,  289,  112,   57,  889,  201, 1326, 1635]],\n",
       "      dtype=int64)"
      ]
     },
     "execution_count": 112,
     "metadata": {},
     "output_type": "execute_result"
    }
   ],
   "source": [
    "confusion_matrix(y_train, prediction)"
   ]
  },
  {
   "cell_type": "code",
   "execution_count": 113,
   "metadata": {},
   "outputs": [
    {
     "data": {
      "text/plain": [
       "1.0"
      ]
     },
     "execution_count": 113,
     "metadata": {},
     "output_type": "execute_result"
    }
   ],
   "source": [
    "#Random Forest\n",
    "prediction_f = forest.predict(X_train)\n",
    "accuracy_score(y_train, prediction_f)"
   ]
  },
  {
   "cell_type": "code",
   "execution_count": 114,
   "metadata": {},
   "outputs": [
    {
     "data": {
      "text/plain": [
       "array([[6230,    0,    0,    0,    0,    0,    0,    0,    0,    0],\n",
       "       [   0, 7067,    0,    0,    0,    0,    0,    0,    0,    0],\n",
       "       [   0,    0, 6311,    0,    0,    0,    0,    0,    0,    0],\n",
       "       [   0,    0,    0, 6433,    0,    0,    0,    0,    0,    0],\n",
       "       [   0,    0,    0,    0, 6117,    0,    0,    0,    0,    0],\n",
       "       [   0,    0,    0,    0,    0, 5654,    0,    0,    0,    0],\n",
       "       [   0,    0,    0,    0,    0,    0, 6206,    0,    0,    0],\n",
       "       [   0,    0,    0,    0,    0,    0,    0, 6568,    0,    0],\n",
       "       [   0,    0,    0,    0,    0,    0,    0,    0, 6139,    0],\n",
       "       [   0,    0,    0,    0,    0,    0,    0,    0,    0, 6275]],\n",
       "      dtype=int64)"
      ]
     },
     "execution_count": 114,
     "metadata": {},
     "output_type": "execute_result"
    }
   ],
   "source": [
    "confusion_matrix(y_train, prediction_f)"
   ]
  },
  {
   "cell_type": "markdown",
   "metadata": {},
   "source": [
    "### E1.4: Evaluate and compare the models on the test set.\n",
    "* compute the test [accuracy](https://scikit-learn.org/stable/modules/generated/sklearn.metrics.accuracy_score.html#sklearn.metrics.accuracy_score) \n",
    "* compute the [F-Measure](https://scikit-learn.org/stable/modules/generated/sklearn.metrics.f1_score.html#sklearn.metrics.f1_score)\n",
    "* plot a [ROC curves](https://scikit-learn.org/stable/modules/generated/sklearn.metrics.roc_curve.html#sklearn.metrics.roc_curve) for the class \"5\" for all three models.\n",
    "                          "
   ]
  },
  {
   "cell_type": "markdown",
   "metadata": {},
   "source": [
    "#### Test accuracy"
   ]
  },
  {
   "cell_type": "code",
   "execution_count": 115,
   "metadata": {},
   "outputs": [
    {
     "data": {
      "text/plain": [
       "0.5457142857142857"
      ]
     },
     "execution_count": 115,
     "metadata": {},
     "output_type": "execute_result"
    }
   ],
   "source": [
    "#Naive Bayes\n",
    "pred_test_b = gnb.predict(X_test)\n",
    "accuracy_score(y_test, pred_test_b )"
   ]
  },
  {
   "cell_type": "code",
   "execution_count": 116,
   "metadata": {},
   "outputs": [
    {
     "data": {
      "text/plain": [
       "0.8531428571428571"
      ]
     },
     "execution_count": 116,
     "metadata": {},
     "output_type": "execute_result"
    }
   ],
   "source": [
    "#Linear\n",
    "pred_test_l = linear.predict(X_test)\n",
    "accuracy_score(y_test, pred_test_l)"
   ]
  },
  {
   "cell_type": "code",
   "execution_count": 117,
   "metadata": {},
   "outputs": [
    {
     "data": {
      "text/plain": [
       "0.9702857142857143"
      ]
     },
     "execution_count": 117,
     "metadata": {},
     "output_type": "execute_result"
    }
   ],
   "source": [
    "#Random Forest\n",
    "pred_test_f = forest.predict(X_test)\n",
    "accuracy_score(y_test, pred_test_f)"
   ]
  },
  {
   "cell_type": "markdown",
   "metadata": {},
   "source": [
    "#### F_Measure"
   ]
  },
  {
   "cell_type": "code",
   "execution_count": 118,
   "metadata": {},
   "outputs": [],
   "source": [
    "from sklearn.metrics import f1_score\n"
   ]
  },
  {
   "cell_type": "code",
   "execution_count": 119,
   "metadata": {},
   "outputs": [
    {
     "name": "stdout",
     "output_type": "stream",
     "text": [
      "0.5457142857142857\n"
     ]
    }
   ],
   "source": [
    "#Naive Bayes\n",
    "\n",
    "test_bayes_fscore = f1_score(y_test,pred_test_b, average = 'micro' )\n",
    "print(test_bayes_fscore)"
   ]
  },
  {
   "cell_type": "code",
   "execution_count": 120,
   "metadata": {},
   "outputs": [
    {
     "name": "stdout",
     "output_type": "stream",
     "text": [
      "0.8531428571428571\n"
     ]
    }
   ],
   "source": [
    "#Linear\n",
    "test_linear_fscore = f1_score(y_test,pred_test_l, average = 'micro' )\n",
    "print(test_linear_fscore)"
   ]
  },
  {
   "cell_type": "code",
   "execution_count": 121,
   "metadata": {},
   "outputs": [
    {
     "name": "stdout",
     "output_type": "stream",
     "text": [
      "0.5457142857142857\n"
     ]
    }
   ],
   "source": [
    "#Forest\n",
    "test_forest_fscore = f1_score(y_test,pred_test_f, average = 'micro' )\n",
    "print(test_bayes_fscore)"
   ]
  },
  {
   "cell_type": "code",
   "execution_count": 122,
   "metadata": {},
   "outputs": [],
   "source": [
    "#Diagramm --> ROC (Class 5)\n",
    "from sklearn import metrics\n",
    "five = (y_test == '5')\n",
    "\n",
    "#naive bayes\n",
    "bayes = (pred_test_b == '5')\n",
    "\n",
    "#linear\n",
    "linear = (pred_test_l == '5')\n",
    "\n",
    "forest = (pred_test_f == '5')"
   ]
  },
  {
   "cell_type": "code",
   "execution_count": 123,
   "metadata": {},
   "outputs": [],
   "source": [
    "bayes_fpr, bayes_tpr, bayes_thresholds = metrics.roc_curve(five, bayes)\n",
    "linear_fpr, linear_tpr, linear_thresholds = metrics.roc_curve(five, linear)\n",
    "forest_fpr, forest_tpr, forest_thresholds = metrics.roc_curve(five, forest)"
   ]
  },
  {
   "cell_type": "code",
   "execution_count": 124,
   "metadata": {},
   "outputs": [
    {
     "data": {
      "image/png": "[encoded data removed]",
      "text/plain": [
       "<Figure size 432x288 with 1 Axes>"
      ]
     },
     "metadata": {
      "needs_background": "light"
     },
     "output_type": "display_data"
    }
   ],
   "source": [
    "plt.plot(bayes_fpr,bayes_tpr, color = 'blue', label = \"Bayes\")\n",
    "plt.plot(linear_fpr,linear_tpr, color = 'red', label = \"Linear\")\n",
    "plt.plot(forest_fpr,forest_tpr, color = 'green',label = \"Forest\")\n",
    "\n",
    "plt.xlabel('False positive rate')\n",
    "plt.ylabel('True positive rate')\n",
    "plt.title('ROC curve')\n",
    "plt.legend(loc='best')\n",
    "plt.show()"
   ]
  },
  {
   "cell_type": "code",
   "execution_count": null,
   "metadata": {},
   "outputs": [],
   "source": []
  }
 ],
 "metadata": {
  "kernelspec": {
   "display_name": "Python 3",
   "language": "python",
   "name": "python3"
  },
  "language_info": {
   "codemirror_mode": {
    "name": "ipython",
    "version": 3
   },
   "file_extension": ".py",
   "mimetype": "text/x-python",
   "name": "python",
   "nbconvert_exporter": "python",
   "pygments_lexer": "ipython3",
   "version": "3.8.5"
  }
 },
 "nbformat": 4,
 "nbformat_minor": 4
}
