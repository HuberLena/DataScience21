{
 "cells": [
  {
   "cell_type": "markdown",
   "metadata": {},
   "source": [
    "# Block 5 Exercise 2: Predicting the fare of taxi rides\n",
    "Using the NY Taxi data set (see Use Case Block I) and the use case from the lecture..."
   ]
  },
  {
   "cell_type": "code",
   "execution_count": 1,
   "metadata": {},
   "outputs": [
    {
     "name": "stdout",
     "output_type": "stream",
     "text": [
      "Requirement already satisfied: folium in c:\\users\\lena huber\\anaconda3\\lib\\site-packages (0.12.1)\n",
      "Requirement already satisfied: jinja2>=2.9 in c:\\users\\lena huber\\anaconda3\\lib\\site-packages (from folium) (2.11.2)\n",
      "Requirement already satisfied: requests in c:\\users\\lena huber\\anaconda3\\lib\\site-packages (from folium) (2.24.0)\n",
      "Requirement already satisfied: numpy in c:\\users\\lena huber\\anaconda3\\lib\\site-packages (from folium) (1.19.2)\n",
      "Requirement already satisfied: branca>=0.3.0 in c:\\users\\lena huber\\anaconda3\\lib\\site-packages (from folium) (0.4.2)\n",
      "Requirement already satisfied: MarkupSafe>=0.23 in c:\\users\\lena huber\\anaconda3\\lib\\site-packages (from jinja2>=2.9->folium) (1.1.1)\n",
      "Requirement already satisfied: urllib3!=1.25.0,!=1.25.1,<1.26,>=1.21.1 in c:\\users\\lena huber\\anaconda3\\lib\\site-packages (from requests->folium) (1.25.11)\n",
      "Requirement already satisfied: chardet<4,>=3.0.2 in c:\\users\\lena huber\\anaconda3\\lib\\site-packages (from requests->folium) (3.0.4)\n",
      "Requirement already satisfied: certifi>=2017.4.17 in c:\\users\\lena huber\\anaconda3\\lib\\site-packages (from requests->folium) (2020.6.20)\n",
      "Requirement already satisfied: idna<3,>=2.5 in c:\\users\\lena huber\\anaconda3\\lib\\site-packages (from requests->folium) (2.10)\n"
     ]
    }
   ],
   "source": [
    "!pip install folium"
   ]
  },
  {
   "cell_type": "code",
   "execution_count": 2,
   "metadata": {},
   "outputs": [],
   "source": [
    "import pandas as pd\n",
    "import numpy as np\n",
    "import folium\n"
   ]
  },
  {
   "cell_type": "code",
   "execution_count": 3,
   "metadata": {},
   "outputs": [],
   "source": [
    "# we load the data we have saved after wrangling and pre-processing in block I\n",
    "X=pd.read_csv('../../DATA/train_cleaned.csv')\n",
    "drop_columns=['Unnamed: 0','Unnamed: 0.1','Unnamed: 0.1.1','key','pickup_datetime','pickup_date','pickup_latitude_round3','pickup_longitude_round3','dropoff_latitude_round3','dropoff_longitude_round3']\n",
    "X=X.drop(drop_columns,axis=1)\n",
    "X=pd.get_dummies(X)# one hot coding\n",
    "#generate labels\n",
    "y=X['fare_amount']\n",
    "X=X.drop(['fare_amount'],axis=1)"
   ]
  },
  {
   "cell_type": "code",
   "execution_count": 4,
   "metadata": {},
   "outputs": [
    {
     "data": {
      "text/html": [
       "<div>\n",
       "<style scoped>\n",
       "    .dataframe tbody tr th:only-of-type {\n",
       "        vertical-align: middle;\n",
       "    }\n",
       "\n",
       "    .dataframe tbody tr th {\n",
       "        vertical-align: top;\n",
       "    }\n",
       "\n",
       "    .dataframe thead th {\n",
       "        text-align: right;\n",
       "    }\n",
       "</style>\n",
       "<table border=\"1\" class=\"dataframe\">\n",
       "  <thead>\n",
       "    <tr style=\"text-align: right;\">\n",
       "      <th></th>\n",
       "      <th>pickup_longitude</th>\n",
       "      <th>pickup_latitude</th>\n",
       "      <th>dropoff_longitude</th>\n",
       "      <th>dropoff_latitude</th>\n",
       "      <th>passenger_count</th>\n",
       "      <th>pickup_day</th>\n",
       "      <th>pickup_hour</th>\n",
       "      <th>pickup_day_of_week</th>\n",
       "      <th>pickup_month</th>\n",
       "      <th>pickup_year</th>\n",
       "      <th>...</th>\n",
       "      <th>pickup_borough_manhattan</th>\n",
       "      <th>pickup_borough_others</th>\n",
       "      <th>pickup_borough_queens</th>\n",
       "      <th>pickup_borough_staten_island</th>\n",
       "      <th>dropoff_borough_bronx</th>\n",
       "      <th>dropoff_borough_brooklyn</th>\n",
       "      <th>dropoff_borough_manhattan</th>\n",
       "      <th>dropoff_borough_others</th>\n",
       "      <th>dropoff_borough_queens</th>\n",
       "      <th>dropoff_borough_staten_island</th>\n",
       "    </tr>\n",
       "  </thead>\n",
       "  <tbody>\n",
       "    <tr>\n",
       "      <th>0</th>\n",
       "      <td>-73.844311</td>\n",
       "      <td>40.721319</td>\n",
       "      <td>-73.841610</td>\n",
       "      <td>40.712278</td>\n",
       "      <td>1</td>\n",
       "      <td>15</td>\n",
       "      <td>17</td>\n",
       "      <td>1</td>\n",
       "      <td>6</td>\n",
       "      <td>2009</td>\n",
       "      <td>...</td>\n",
       "      <td>0</td>\n",
       "      <td>0</td>\n",
       "      <td>1</td>\n",
       "      <td>0</td>\n",
       "      <td>0</td>\n",
       "      <td>0</td>\n",
       "      <td>0</td>\n",
       "      <td>0</td>\n",
       "      <td>1</td>\n",
       "      <td>0</td>\n",
       "    </tr>\n",
       "    <tr>\n",
       "      <th>1</th>\n",
       "      <td>-74.016048</td>\n",
       "      <td>40.711303</td>\n",
       "      <td>-73.979268</td>\n",
       "      <td>40.782004</td>\n",
       "      <td>1</td>\n",
       "      <td>5</td>\n",
       "      <td>16</td>\n",
       "      <td>2</td>\n",
       "      <td>1</td>\n",
       "      <td>2010</td>\n",
       "      <td>...</td>\n",
       "      <td>1</td>\n",
       "      <td>0</td>\n",
       "      <td>0</td>\n",
       "      <td>0</td>\n",
       "      <td>0</td>\n",
       "      <td>0</td>\n",
       "      <td>1</td>\n",
       "      <td>0</td>\n",
       "      <td>0</td>\n",
       "      <td>0</td>\n",
       "    </tr>\n",
       "    <tr>\n",
       "      <th>2</th>\n",
       "      <td>-73.982738</td>\n",
       "      <td>40.761270</td>\n",
       "      <td>-73.991242</td>\n",
       "      <td>40.750562</td>\n",
       "      <td>2</td>\n",
       "      <td>18</td>\n",
       "      <td>0</td>\n",
       "      <td>4</td>\n",
       "      <td>8</td>\n",
       "      <td>2011</td>\n",
       "      <td>...</td>\n",
       "      <td>1</td>\n",
       "      <td>0</td>\n",
       "      <td>0</td>\n",
       "      <td>0</td>\n",
       "      <td>0</td>\n",
       "      <td>0</td>\n",
       "      <td>1</td>\n",
       "      <td>0</td>\n",
       "      <td>0</td>\n",
       "      <td>0</td>\n",
       "    </tr>\n",
       "    <tr>\n",
       "      <th>3</th>\n",
       "      <td>-73.987130</td>\n",
       "      <td>40.733143</td>\n",
       "      <td>-73.991567</td>\n",
       "      <td>40.758092</td>\n",
       "      <td>1</td>\n",
       "      <td>21</td>\n",
       "      <td>4</td>\n",
       "      <td>6</td>\n",
       "      <td>4</td>\n",
       "      <td>2012</td>\n",
       "      <td>...</td>\n",
       "      <td>1</td>\n",
       "      <td>0</td>\n",
       "      <td>0</td>\n",
       "      <td>0</td>\n",
       "      <td>0</td>\n",
       "      <td>0</td>\n",
       "      <td>1</td>\n",
       "      <td>0</td>\n",
       "      <td>0</td>\n",
       "      <td>0</td>\n",
       "    </tr>\n",
       "    <tr>\n",
       "      <th>4</th>\n",
       "      <td>-73.968095</td>\n",
       "      <td>40.768008</td>\n",
       "      <td>-73.956655</td>\n",
       "      <td>40.783762</td>\n",
       "      <td>1</td>\n",
       "      <td>9</td>\n",
       "      <td>7</td>\n",
       "      <td>2</td>\n",
       "      <td>3</td>\n",
       "      <td>2010</td>\n",
       "      <td>...</td>\n",
       "      <td>1</td>\n",
       "      <td>0</td>\n",
       "      <td>0</td>\n",
       "      <td>0</td>\n",
       "      <td>0</td>\n",
       "      <td>0</td>\n",
       "      <td>1</td>\n",
       "      <td>0</td>\n",
       "      <td>0</td>\n",
       "      <td>0</td>\n",
       "    </tr>\n",
       "  </tbody>\n",
       "</table>\n",
       "<p>5 rows × 31 columns</p>\n",
       "</div>"
      ],
      "text/plain": [
       "   pickup_longitude  pickup_latitude  dropoff_longitude  dropoff_latitude  \\\n",
       "0        -73.844311        40.721319         -73.841610         40.712278   \n",
       "1        -74.016048        40.711303         -73.979268         40.782004   \n",
       "2        -73.982738        40.761270         -73.991242         40.750562   \n",
       "3        -73.987130        40.733143         -73.991567         40.758092   \n",
       "4        -73.968095        40.768008         -73.956655         40.783762   \n",
       "\n",
       "   passenger_count  pickup_day  pickup_hour  pickup_day_of_week  pickup_month  \\\n",
       "0                1          15           17                   1             6   \n",
       "1                1           5           16                   2             1   \n",
       "2                2          18            0                   4             8   \n",
       "3                1          21            4                   6             4   \n",
       "4                1           9            7                   2             3   \n",
       "\n",
       "   pickup_year  ...  pickup_borough_manhattan  pickup_borough_others  \\\n",
       "0         2009  ...                         0                      0   \n",
       "1         2010  ...                         1                      0   \n",
       "2         2011  ...                         1                      0   \n",
       "3         2012  ...                         1                      0   \n",
       "4         2010  ...                         1                      0   \n",
       "\n",
       "   pickup_borough_queens  pickup_borough_staten_island  dropoff_borough_bronx  \\\n",
       "0                      1                             0                      0   \n",
       "1                      0                             0                      0   \n",
       "2                      0                             0                      0   \n",
       "3                      0                             0                      0   \n",
       "4                      0                             0                      0   \n",
       "\n",
       "   dropoff_borough_brooklyn  dropoff_borough_manhattan  \\\n",
       "0                         0                          0   \n",
       "1                         0                          1   \n",
       "2                         0                          1   \n",
       "3                         0                          1   \n",
       "4                         0                          1   \n",
       "\n",
       "   dropoff_borough_others  dropoff_borough_queens  \\\n",
       "0                       0                       1   \n",
       "1                       0                       0   \n",
       "2                       0                       0   \n",
       "3                       0                       0   \n",
       "4                       0                       0   \n",
       "\n",
       "   dropoff_borough_staten_island  \n",
       "0                              0  \n",
       "1                              0  \n",
       "2                              0  \n",
       "3                              0  \n",
       "4                              0  \n",
       "\n",
       "[5 rows x 31 columns]"
      ]
     },
     "execution_count": 4,
     "metadata": {},
     "output_type": "execute_result"
    }
   ],
   "source": [
    "# a quick look at the data\n",
    "X.head()"
   ]
  },
  {
   "cell_type": "code",
   "execution_count": 5,
   "metadata": {},
   "outputs": [
    {
     "data": {
      "text/plain": [
       "0     4.5\n",
       "1    16.9\n",
       "2     5.7\n",
       "3     7.7\n",
       "4     5.3\n",
       "Name: fare_amount, dtype: float64"
      ]
     },
     "execution_count": 5,
     "metadata": {},
     "output_type": "execute_result"
    }
   ],
   "source": [
    "y.head()"
   ]
  },
  {
   "cell_type": "code",
   "execution_count": 46,
   "metadata": {},
   "outputs": [
    {
     "data": {
      "text/plain": [
       "(400000,)"
      ]
     },
     "execution_count": 46,
     "metadata": {},
     "output_type": "execute_result"
    }
   ],
   "source": [
    "y.shape"
   ]
  },
  {
   "cell_type": "code",
   "execution_count": 47,
   "metadata": {},
   "outputs": [
    {
     "data": {
      "text/plain": [
       "(400000, 31)"
      ]
     },
     "execution_count": 47,
     "metadata": {},
     "output_type": "execute_result"
    }
   ],
   "source": [
    "X.shape"
   ]
  },
  {
   "cell_type": "markdown",
   "metadata": {},
   "source": [
    "### E 2.1 Split data into train and test data\n",
    "* use data from 2009-1014 for training and 2015 for evaluation\n"
   ]
  },
  {
   "cell_type": "code",
   "execution_count": 6,
   "metadata": {},
   "outputs": [
    {
     "data": {
      "text/plain": [
       "2009"
      ]
     },
     "execution_count": 6,
     "metadata": {},
     "output_type": "execute_result"
    }
   ],
   "source": [
    "X['pickup_year'].min()"
   ]
  },
  {
   "cell_type": "code",
   "execution_count": 7,
   "metadata": {},
   "outputs": [],
   "source": [
    "#Traing data from 2009-2014\n",
    "X_train = X[X['pickup_year']< 2015]\n",
    "Y_train = y[X['pickup_year']< 2015]\n",
    "\n",
    "#Test data -->2015\n",
    "X_test = X[X['pickup_year']== 2015]\n",
    "Y_test = y[X['pickup_year']== 2015]\n"
   ]
  },
  {
   "cell_type": "code",
   "execution_count": 8,
   "metadata": {},
   "outputs": [
    {
     "name": "stdout",
     "output_type": "stream",
     "text": [
      "(372110, 31) (372110,) (27890, 31) (27890,)\n"
     ]
    }
   ],
   "source": [
    "print(X_train.shape, Y_train.shape, X_test.shape, Y_test.shape)"
   ]
  },
  {
   "cell_type": "markdown",
   "metadata": {},
   "source": [
    "### E 2.2 Train a Random Forest Regression Model\n",
    "* train model using [RF regression](https://scikit-learn.org/stable/modules/generated/sklearn.ensemble.RandomForestRegressor.html#sklearn.ensemble.RandomForestRegressor)\n",
    "* optimize the model parameters (#trees, depth, vars per split, ...) and evaluate the [MSE](https://scikit-learn.org/stable/modules/generated/sklearn.metrics.mean_squared_error.html#sklearn.metrics.mean_squared_error) on train and test data\n",
    "* Analyze the model error: are there typical settings where the model fails?"
   ]
  },
  {
   "cell_type": "code",
   "execution_count": 9,
   "metadata": {},
   "outputs": [],
   "source": [
    "from sklearn.ensemble import RandomForestRegressor\n",
    "from sklearn.datasets import make_regression\n",
    "import matplotlib.pyplot as plt"
   ]
  },
  {
   "cell_type": "code",
   "execution_count": 10,
   "metadata": {},
   "outputs": [],
   "source": [
    "X_train = np.array(X_train)\n",
    "Y_train = np.array(Y_train)\n",
    "X_test = np.array(X_test)\n",
    "Y_test = np.array(Y_test)"
   ]
  },
  {
   "cell_type": "code",
   "execution_count": 11,
   "metadata": {},
   "outputs": [],
   "source": [
    "FRegression = RandomForestRegressor( n_estimators = 15)"
   ]
  },
  {
   "cell_type": "code",
   "execution_count": 12,
   "metadata": {},
   "outputs": [
    {
     "data": {
      "text/plain": [
       "RandomForestRegressor(n_estimators=15)"
      ]
     },
     "execution_count": 12,
     "metadata": {},
     "output_type": "execute_result"
    }
   ],
   "source": [
    "FRegression.fit(X_train,Y_train)"
   ]
  },
  {
   "cell_type": "markdown",
   "metadata": {},
   "source": [
    "#### Mean squared Error"
   ]
  },
  {
   "cell_type": "code",
   "execution_count": 13,
   "metadata": {},
   "outputs": [],
   "source": [
    "from sklearn.metrics import mean_squared_error"
   ]
  },
  {
   "cell_type": "code",
   "execution_count": 14,
   "metadata": {},
   "outputs": [
    {
     "data": {
      "text/plain": [
       "3.009306629622516"
      ]
     },
     "execution_count": 14,
     "metadata": {},
     "output_type": "execute_result"
    }
   ],
   "source": [
    "#prediction on train and mean error on train\n",
    "pred_train = FRegression.predict(X_train)\n",
    "mean_squared_error(Y_train, pred_train)"
   ]
  },
  {
   "cell_type": "code",
   "execution_count": 15,
   "metadata": {},
   "outputs": [],
   "source": [
    "#prediction on test and mean error on test\n",
    "pred_xtest = FRegression.predict(X_test)"
   ]
  },
  {
   "cell_type": "code",
   "execution_count": 16,
   "metadata": {},
   "outputs": [],
   "source": [
    "err=mean_squared_error(Y_test, pred_xtest)"
   ]
  },
  {
   "cell_type": "code",
   "execution_count": 17,
   "metadata": {},
   "outputs": [
    {
     "name": "stdout",
     "output_type": "stream",
     "text": [
      "Mean Absolute Error: 2.002616923628541\n",
      "Mean Squared Error: 22.80925343836501\n",
      "Root Mean Squared Error: 4.77590341593766\n"
     ]
    }
   ],
   "source": [
    "#Evaluating Algorithm\n",
    "from sklearn import metrics\n",
    "\n",
    "print('Mean Absolute Error:', metrics.mean_absolute_error(Y_test, pred_xtest))\n",
    "print('Mean Squared Error:', metrics.mean_squared_error(Y_test, pred_xtest))\n",
    "print('Root Mean Squared Error:', np.sqrt(metrics.mean_squared_error(Y_test, pred_xtest)))"
   ]
  },
  {
   "cell_type": "markdown",
   "metadata": {},
   "source": [
    "On the test data the mean squared error is quite high!!"
   ]
  },
  {
   "cell_type": "code",
   "execution_count": 18,
   "metadata": {},
   "outputs": [],
   "source": [
    "#Differenz zwischen Testdaten und Prediction\n",
    "\n",
    "difference =np.abs (Y_test - pred_xtest )"
   ]
  },
  {
   "cell_type": "code",
   "execution_count": 19,
   "metadata": {},
   "outputs": [
    {
     "data": {
      "text/plain": [
       "(array([2.7861e+04, 2.7000e+01, 0.0000e+00, 0.0000e+00, 0.0000e+00,\n",
       "        1.0000e+00, 0.0000e+00, 0.0000e+00, 0.0000e+00, 1.0000e+00]),\n",
       " array([  0.        ,  44.20753333,  88.41506667, 132.6226    ,\n",
       "        176.83013333, 221.03766667, 265.2452    , 309.45273333,\n",
       "        353.66026667, 397.8678    , 442.07533333]),\n",
       " <BarContainer object of 10 artists>)"
      ]
     },
     "execution_count": 19,
     "metadata": {},
     "output_type": "execute_result"
    },
    {
     "data": {
      "image/png": "[encoded data removed]",
      "text/plain": [
       "<Figure size 432x288 with 1 Axes>"
      ]
     },
     "metadata": {
      "needs_background": "light"
     },
     "output_type": "display_data"
    }
   ],
   "source": [
    "plt.hist(difference)"
   ]
  },
  {
   "cell_type": "code",
   "execution_count": 20,
   "metadata": {},
   "outputs": [],
   "source": [
    "test = difference[difference < 20]"
   ]
  },
  {
   "cell_type": "code",
   "execution_count": 21,
   "metadata": {},
   "outputs": [
    {
     "data": {
      "text/plain": [
       "(array([5.078e+03, 4.821e+03, 4.091e+03, 3.075e+03, 2.376e+03, 1.753e+03,\n",
       "        1.330e+03, 1.014e+03, 7.650e+02, 5.840e+02, 4.430e+02, 3.640e+02,\n",
       "        3.110e+02, 2.330e+02, 1.860e+02, 1.780e+02, 1.410e+02, 1.160e+02,\n",
       "        9.700e+01, 1.190e+02, 6.800e+01, 7.500e+01, 5.300e+01, 4.500e+01,\n",
       "        5.600e+01, 5.500e+01, 4.100e+01, 3.900e+01, 2.400e+01, 2.700e+01,\n",
       "        1.800e+01, 1.700e+01, 1.800e+01, 1.200e+01, 1.900e+01, 1.200e+01,\n",
       "        1.000e+01, 1.400e+01, 1.200e+01, 9.000e+00, 4.000e+00, 6.000e+00,\n",
       "        1.100e+01, 9.000e+00, 6.000e+00, 4.000e+00, 5.000e+00, 6.000e+00,\n",
       "        7.000e+00, 8.000e+00]),\n",
       " array([ 0.        ,  0.39869333,  0.79738667,  1.19608   ,  1.59477333,\n",
       "         1.99346667,  2.39216   ,  2.79085333,  3.18954667,  3.58824   ,\n",
       "         3.98693333,  4.38562667,  4.78432   ,  5.18301333,  5.58170667,\n",
       "         5.9804    ,  6.37909333,  6.77778667,  7.17648   ,  7.57517333,\n",
       "         7.97386667,  8.37256   ,  8.77125333,  9.16994667,  9.56864   ,\n",
       "         9.96733333, 10.36602667, 10.76472   , 11.16341333, 11.56210667,\n",
       "        11.9608    , 12.35949333, 12.75818667, 13.15688   , 13.55557333,\n",
       "        13.95426667, 14.35296   , 14.75165333, 15.15034667, 15.54904   ,\n",
       "        15.94773333, 16.34642667, 16.74512   , 17.14381333, 17.54250667,\n",
       "        17.9412    , 18.33989333, 18.73858667, 19.13728   , 19.53597333,\n",
       "        19.93466667]),\n",
       " <BarContainer object of 50 artists>)"
      ]
     },
     "execution_count": 21,
     "metadata": {},
     "output_type": "execute_result"
    },
    {
     "data": {
      "image/png": "[encoded data removed]",
      "text/plain": [
       "<Figure size 432x288 with 1 Axes>"
      ]
     },
     "metadata": {
      "needs_background": "light"
     },
     "output_type": "display_data"
    }
   ],
   "source": [
    "plt.hist(test, bins = 50)"
   ]
  },
  {
   "cell_type": "code",
   "execution_count": 26,
   "metadata": {},
   "outputs": [],
   "source": [
    "#Korrelation zwischen Fehler und Prediction\n",
    "corr =np.corrcoef(X_test, difference, rowvar = False)"
   ]
  },
  {
   "cell_type": "code",
   "execution_count": 29,
   "metadata": {},
   "outputs": [
    {
     "data": {
      "text/plain": [
       "array([[ 1.        , -0.10284517,  0.30148768, ...,  0.19260331,\n",
       "         0.00941015,  0.15739471],\n",
       "       [-0.10284517,  1.        ,  0.05364617, ..., -0.11988744,\n",
       "        -0.00997073, -0.06721146],\n",
       "       [ 0.30148768,  0.05364617,  1.        , ...,  0.67584694,\n",
       "        -0.05968126,  0.11627815],\n",
       "       ...,\n",
       "       [ 0.19260331, -0.11988744,  0.67584694, ...,  1.        ,\n",
       "        -0.00282322,  0.10767337],\n",
       "       [ 0.00941015, -0.00997073, -0.05968126, ..., -0.00282322,\n",
       "         1.        ,  0.03200802],\n",
       "       [ 0.15739471, -0.06721146,  0.11627815, ...,  0.10767337,\n",
       "         0.03200802,  1.        ]])"
      ]
     },
     "execution_count": 29,
     "metadata": {},
     "output_type": "execute_result"
    }
   ],
   "source": [
    "corr"
   ]
  },
  {
   "cell_type": "markdown",
   "metadata": {},
   "source": [
    "#### Tuning the parameters"
   ]
  },
  {
   "cell_type": "code",
   "execution_count": 32,
   "metadata": {},
   "outputs": [
    {
     "name": "stdout",
     "output_type": "stream",
     "text": [
      "Fitting 3 folds for each of 3 candidates, totalling 9 fits\n"
     ]
    },
    {
     "name": "stderr",
     "output_type": "stream",
     "text": [
      "[Parallel(n_jobs=-1)]: Using backend LokyBackend with 4 concurrent workers.\n",
      "[Parallel(n_jobs=-1)]: Done   9 out of   9 | elapsed: 20.9min finished\n"
     ]
    },
    {
     "data": {
      "text/plain": [
       "{'n_estimators': 100}"
      ]
     },
     "execution_count": 32,
     "metadata": {},
     "output_type": "execute_result"
    }
   ],
   "source": [
    "# Import GridSearchCV\n",
    "from sklearn.model_selection import GridSearchCV\n",
    "\n",
    "# Find the best parameters for the model\n",
    "parameters = {\n",
    "    'n_estimators': [20, 50, 100]\n",
    "}\n",
    "gridforest = GridSearchCV(FRegression, parameters, cv = 3, n_jobs = -1, verbose = 1)\n",
    "gridforest.fit(X_train, Y_train)\n",
    "gridforest.best_params_"
   ]
  },
  {
   "cell_type": "code",
   "execution_count": 33,
   "metadata": {},
   "outputs": [],
   "source": [
    "fr = RandomForestRegressor( n_estimators = 100)"
   ]
  },
  {
   "cell_type": "code",
   "execution_count": 34,
   "metadata": {},
   "outputs": [
    {
     "data": {
      "text/plain": [
       "RandomForestRegressor()"
      ]
     },
     "execution_count": 34,
     "metadata": {},
     "output_type": "execute_result"
    }
   ],
   "source": [
    "fr.fit(X_train,Y_train)"
   ]
  },
  {
   "cell_type": "code",
   "execution_count": 37,
   "metadata": {},
   "outputs": [
    {
     "data": {
      "text/plain": [
       "2.3551029061753224"
      ]
     },
     "execution_count": 37,
     "metadata": {},
     "output_type": "execute_result"
    }
   ],
   "source": [
    "#prediction on train and mean error on train\n",
    "pred_train_neu = fr.predict(X_train)\n",
    "mean_squared_error(Y_train, pred_train_neu)"
   ]
  },
  {
   "cell_type": "code",
   "execution_count": 39,
   "metadata": {},
   "outputs": [],
   "source": [
    "#prediction on test and mean error on test\n",
    "pred_xtest_neu = fr.predict(X_test)"
   ]
  },
  {
   "cell_type": "code",
   "execution_count": 40,
   "metadata": {},
   "outputs": [
    {
     "name": "stdout",
     "output_type": "stream",
     "text": [
      "Mean Absolute Error: 1.9224446217282187\n",
      "Mean Squared Error: 21.45874114216171\n",
      "Root Mean Squared Error: 4.63235805418382\n"
     ]
    }
   ],
   "source": [
    "print('Mean Absolute Error:', metrics.mean_absolute_error(Y_test, pred_xtest_neu))\n",
    "print('Mean Squared Error:', metrics.mean_squared_error(Y_test, pred_xtest_neu))\n",
    "print('Root Mean Squared Error:', np.sqrt(metrics.mean_squared_error(Y_test, pred_xtest_neu)))"
   ]
  },
  {
   "cell_type": "markdown",
   "metadata": {},
   "source": [
    "Error score is a little better"
   ]
  },
  {
   "cell_type": "markdown",
   "metadata": {},
   "source": [
    "#### Defining and visualizing variables importance"
   ]
  },
  {
   "cell_type": "code",
   "execution_count": 41,
   "metadata": {},
   "outputs": [],
   "source": [
    "# Get features list\n",
    "characteristics = X.columns"
   ]
  },
  {
   "cell_type": "code",
   "execution_count": 42,
   "metadata": {},
   "outputs": [],
   "source": [
    "importances = list(fr.feature_importances_)"
   ]
  },
  {
   "cell_type": "code",
   "execution_count": 44,
   "metadata": {},
   "outputs": [
    {
     "name": "stdout",
     "output_type": "stream",
     "text": [
      "Variable: trip_distance        Importance: 0.75\n",
      "Variable: dropoff_longitude    Importance: 0.04\n",
      "Variable: pickup_longitude     Importance: 0.03\n",
      "Variable: pickup_latitude      Importance: 0.03\n",
      "Variable: dropoff_latitude     Importance: 0.03\n",
      "Variable: pickup_year          Importance: 0.03\n",
      "Variable: pickup_hour          Importance: 0.02\n",
      "Variable: pickup_day           Importance: 0.01\n",
      "Variable: pickup_day_of_week   Importance: 0.01\n",
      "Variable: pickup_month         Importance: 0.01\n",
      "Variable: dropoff_borough_others Importance: 0.01\n",
      "Variable: passenger_count      Importance: 0.0\n",
      "Variable: is_pickup_JFK        Importance: 0.0\n",
      "Variable: is_dropoff_JFK       Importance: 0.0\n",
      "Variable: is_pickup_EWR        Importance: 0.0\n",
      "Variable: is_dropoff_EWR       Importance: 0.0\n",
      "Variable: is_pickup_la_guardia Importance: 0.0\n",
      "Variable: is_dropoff_la_guardia Importance: 0.0\n",
      "Variable: is_pickup_lower_manhattan Importance: 0.0\n",
      "Variable: is_dropoff_lower_manhattan Importance: 0.0\n",
      "Variable: pickup_borough_bronx Importance: 0.0\n",
      "Variable: pickup_borough_brooklyn Importance: 0.0\n",
      "Variable: pickup_borough_manhattan Importance: 0.0\n",
      "Variable: pickup_borough_others Importance: 0.0\n",
      "Variable: pickup_borough_queens Importance: 0.0\n",
      "Variable: pickup_borough_staten_island Importance: 0.0\n",
      "Variable: dropoff_borough_bronx Importance: 0.0\n",
      "Variable: dropoff_borough_brooklyn Importance: 0.0\n",
      "Variable: dropoff_borough_manhattan Importance: 0.0\n",
      "Variable: dropoff_borough_queens Importance: 0.0\n",
      "Variable: dropoff_borough_staten_island Importance: 0.0\n"
     ]
    }
   ],
   "source": [
    "characteristics_importances = [(characteristic, round(importance, 2)) for characteristic, importance in zip(characteristics, importances)]\n",
    "characteristics_importances = sorted(characteristics_importances, key = lambda x: x[1], reverse = True)\n",
    "[print('Variable: {:20} Importance: {}'.format(*pair)) for pair in characteristics_importances];"
   ]
  },
  {
   "cell_type": "code",
   "execution_count": 45,
   "metadata": {},
   "outputs": [
    {
     "data": {
      "image/png": "[encoded data removed]",
      "text/plain": [
       "<Figure size 432x288 with 1 Axes>"
      ]
     },
     "metadata": {
      "needs_background": "light"
     },
     "output_type": "display_data"
    }
   ],
   "source": [
    "# Visualize the variables importances\n",
    "plt.bar(characteristics, importances, orientation = 'vertical')\n",
    "plt.xticks(rotation = 'vertical')\n",
    "plt.ylabel('Importance')\n",
    "plt.xlabel('Variable')\n",
    "plt.grid(axis = 'y', color = '#D3D3D3', linestyle = 'solid')\n",
    "plt.show()"
   ]
  },
  {
   "cell_type": "code",
   "execution_count": null,
   "metadata": {},
   "outputs": [],
   "source": []
  }
 ],
 "metadata": {
  "kernelspec": {
   "display_name": "Python 3",
   "language": "python",
   "name": "python3"
  },
  "language_info": {
   "codemirror_mode": {
    "name": "ipython",
    "version": 3
   },
   "file_extension": ".py",
   "mimetype": "text/x-python",
   "name": "python",
   "nbconvert_exporter": "python",
   "pygments_lexer": "ipython3",
   "version": "3.8.5"
  }
 },
 "nbformat": 4,
 "nbformat_minor": 4
}
