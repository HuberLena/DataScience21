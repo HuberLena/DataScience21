{
 "cells": [
  {
   "cell_type": "markdown",
   "metadata": {
    "slideshow": {
     "slide_type": "slide"
    }
   },
   "source": [
    "# Machine Learning in Python with Scikit-Learn\n",
    "<img src=\"IMG/sk-logo.png\">"
   ]
  },
  {
   "cell_type": "code",
   "execution_count": 1,
   "metadata": {
    "slideshow": {
     "slide_type": "skip"
    }
   },
   "outputs": [
    {
     "name": "stdout",
     "output_type": "stream",
     "text": [
      "running in Colab: False\n"
     ]
    }
   ],
   "source": [
    "import sys\n",
    "IN_COLAB = 'google.colab' in sys.modules\n",
    "print('running in Colab:',IN_COLAB)\n",
    "path='..'\n",
    "if IN_COLAB:\n",
    "  #in colab, we need to clone the data from the repo\n",
    "  !git clone https://github.com/keuperj/DataScienceSS20.git\n",
    "  path='DataScienceSS20'"
   ]
  },
  {
   "cell_type": "markdown",
   "metadata": {
    "slideshow": {
     "slide_type": "slide"
    }
   },
   "source": [
    "## Scikit-Learn Overview\n",
    "<img src=\"IMG/sk-logo.png\" width=200>\n",
    "\n",
    "* dominant Machine Learning Library for Python\n",
    "* very wide user basis\n",
    "* very good documentation\n",
    "* state of the art  implementation \n",
    "* unified API \n",
    "* full integration in ***NumPy / Pandas*** work flows\n",
    "* *everything but* **Deep Learning**  \n"
   ]
  },
  {
   "cell_type": "markdown",
   "metadata": {
    "slideshow": {
     "slide_type": "subslide"
    }
   },
   "source": [
    "## Scikit-Learn Resources\n",
    "<img src=\"IMG/sk-logo.png\" width=200>\n",
    "\n",
    "* Website: https://scikit-learn.org/stable/index.html\n",
    "* API Reference: https://scikit-learn.org/stable/modules/classes.html\n",
    "* Tutorial: https://scikit-learn.org/stable/tutorial/index.html"
   ]
  },
  {
   "cell_type": "markdown",
   "metadata": {
    "slideshow": {
     "slide_type": "subslide"
    }
   },
   "source": [
    "## Scikit-Learn Structure\n",
    "<img src=\"IMG/sk-overview.png\" width=800>"
   ]
  },
  {
   "cell_type": "markdown",
   "metadata": {
    "slideshow": {
     "slide_type": "subslide"
    }
   },
   "source": [
    "## Scikit-Learn Structure\n",
    "<img src=\"IMG/sk-logo.png\" width=200>\n",
    "\n",
    "***SkLearn*** provides a wide range of ML Algorithms plus methods for:\n",
    "* loading / accessing data\n",
    "* data pre-processing\n",
    "* data selection\n",
    "* model evaluation \n",
    "* model tuning"
   ]
  },
  {
   "cell_type": "markdown",
   "metadata": {
    "slideshow": {
     "slide_type": "slide"
    }
   },
   "source": [
    "## Data Access\n",
    "### Build in Data Sets\n",
    "***SkLearn*** provides many datasets that are commonly used in Machine Learning teaching and tutorials.\n",
    "* see full list here: https://scikit-learn.org/stable/datasets/index.html"
   ]
  },
  {
   "cell_type": "code",
   "execution_count": 2,
   "metadata": {
    "slideshow": {
     "slide_type": "fragment"
    }
   },
   "outputs": [],
   "source": [
    "from sklearn.datasets import load_iris\n",
    "X=load_iris()['data'] #vectors of data\n",
    "Y=load_iris()['target'] #label vector"
   ]
  },
  {
   "cell_type": "code",
   "execution_count": 3,
   "metadata": {},
   "outputs": [
    {
     "data": {
      "text/plain": [
       "numpy.ndarray"
      ]
     },
     "execution_count": 3,
     "metadata": {},
     "output_type": "execute_result"
    }
   ],
   "source": [
    "type(X)"
   ]
  },
  {
   "cell_type": "code",
   "execution_count": 4,
   "metadata": {
    "slideshow": {
     "slide_type": "subslide"
    }
   },
   "outputs": [
    {
     "data": {
      "text/plain": [
       "array([[5.1, 3.5, 1.4, 0.2],\n",
       "       [4.9, 3. , 1.4, 0.2],\n",
       "       [4.7, 3.2, 1.3, 0.2],\n",
       "       [4.6, 3.1, 1.5, 0.2],\n",
       "       [5. , 3.6, 1.4, 0.2],\n",
       "       [5.4, 3.9, 1.7, 0.4],\n",
       "       [4.6, 3.4, 1.4, 0.3],\n",
       "       [5. , 3.4, 1.5, 0.2],\n",
       "       [4.4, 2.9, 1.4, 0.2],\n",
       "       [4.9, 3.1, 1.5, 0.1],\n",
       "       [5.4, 3.7, 1.5, 0.2],\n",
       "       [4.8, 3.4, 1.6, 0.2],\n",
       "       [4.8, 3. , 1.4, 0.1],\n",
       "       [4.3, 3. , 1.1, 0.1],\n",
       "       [5.8, 4. , 1.2, 0.2],\n",
       "       [5.7, 4.4, 1.5, 0.4],\n",
       "       [5.4, 3.9, 1.3, 0.4],\n",
       "       [5.1, 3.5, 1.4, 0.3],\n",
       "       [5.7, 3.8, 1.7, 0.3],\n",
       "       [5.1, 3.8, 1.5, 0.3]])"
      ]
     },
     "execution_count": 4,
     "metadata": {},
     "output_type": "execute_result"
    }
   ],
   "source": [
    "X[:20,:]\n"
   ]
  },
  {
   "cell_type": "markdown",
   "metadata": {
    "slideshow": {
     "slide_type": "slide"
    }
   },
   "source": [
    "## Unified API\n",
    "One key feature of ***SkLearn*** is it's unified API, that allows a very simple exchange ML methods:   \n",
    "\n",
    "1. create **model instance** for ML Algorithm *A* \n",
    "```\n",
    "model = A( SOME_METHOD_SPECIFIC_PARAMETERS)\n",
    "```\n",
    "2. **train** model with data X (and labels Y if we use ***supervised ML***) \n",
    "```\n",
    "model.fit(X) or model.fit(X,Y)\n",
    "```\n",
    "3. **inference** of data X_test on our model \n",
    "```\n",
    "pred = model.predict(X_test)\n",
    "```"
   ]
  },
  {
   "cell_type": "markdown",
   "metadata": {
    "slideshow": {
     "slide_type": "subslide"
    }
   },
   "source": [
    "### Example: Simple Classification Problem "
   ]
  },
  {
   "cell_type": "code",
   "execution_count": 9,
   "metadata": {},
   "outputs": [],
   "source": [
    "import numpy as np\n",
    "from sklearn.datasets import make_classification\n",
    "#generate random date for classification\n",
    "X, y = make_classification(n_features=2, n_redundant=0, n_informative=2,\n",
    "                           random_state=1, n_clusters_per_class=1)"
   ]
  },
  {
   "cell_type": "code",
   "execution_count": 10,
   "metadata": {
    "slideshow": {
     "slide_type": "fragment"
    }
   },
   "outputs": [
    {
     "data": {
      "text/plain": [
       "(100, 2)"
      ]
     },
     "execution_count": 10,
     "metadata": {},
     "output_type": "execute_result"
    }
   ],
   "source": [
    "np.shape(X)"
   ]
  },
  {
   "cell_type": "code",
   "execution_count": 11,
   "metadata": {
    "slideshow": {
     "slide_type": "subslide"
    }
   },
   "outputs": [],
   "source": [
    "#randomly split into train and test data\n",
    "from sklearn.model_selection import train_test_split\n",
    "X_train, X_test, y_train, y_test = train_test_split(X, y, test_size=0.1, random_state=42)"
   ]
  },
  {
   "cell_type": "code",
   "execution_count": 12,
   "metadata": {
    "scrolled": true,
    "slideshow": {
     "slide_type": "subslide"
    }
   },
   "outputs": [
    {
     "data": {
      "text/plain": [
       "<matplotlib.collections.PathCollection at 0x2199f81a400>"
      ]
     },
     "execution_count": 12,
     "metadata": {},
     "output_type": "execute_result"
    },
    {
     "data": {
      "image/png": "[encoded data removed]",
      "text/plain": [
       "<Figure size 432x288 with 1 Axes>"
      ]
     },
     "metadata": {
      "needs_background": "light"
     },
     "output_type": "display_data"
    }
   ],
   "source": [
    "#plot problem\n",
    "import matplotlib.pyplot as plt\n",
    "%matplotlib inline\n",
    "plt.scatter(X[:,0],X[:,1], c=y)"
   ]
  },
  {
   "cell_type": "code",
   "execution_count": 13,
   "metadata": {
    "slideshow": {
     "slide_type": "skip"
    }
   },
   "outputs": [],
   "source": [
    "import warnings\n",
    "warnings.filterwarnings('ignore')\n",
    "def plot_surface(clf, X, y, \n",
    "                 xlim=(-10, 10), ylim=(-10, 10), n_steps=250, \n",
    "                 subplot=None, show=True):\n",
    "    if subplot is None:\n",
    "        fig = plt.figure()\n",
    "    else:\n",
    "        plt.subplot(*subplot)\n",
    "        \n",
    "    xx, yy = np.meshgrid(np.linspace(xlim[0], xlim[1], n_steps), \n",
    "                         np.linspace(ylim[0], ylim[1], n_steps))\n",
    "    \n",
    "    if hasattr(clf, \"decision_function\"):\n",
    "        z = clf.decision_function(np.c_[xx.ravel(), yy.ravel()])\n",
    "    else:\n",
    "        z = clf.predict_proba(np.c_[xx.ravel(), yy.ravel()])[:, 1]\n",
    "        \n",
    "    z = z.reshape(xx.shape)\n",
    "    plt.contourf(xx, yy, z, alpha=0.8, cmap=plt.cm.RdBu_r)\n",
    "    plt.scatter(X[:, 0], X[:, 1], c=y)\n",
    "    plt.xlim(*xlim)\n",
    "    plt.ylim(*ylim)\n",
    "    \n",
    "    if show:\n",
    "        plt.show()"
   ]
  },
  {
   "cell_type": "code",
   "execution_count": 14,
   "metadata": {
    "scrolled": true,
    "slideshow": {
     "slide_type": "subslide"
    }
   },
   "outputs": [
    {
     "data": {
      "image/png": "[encoded data removed]",
      "text/plain": [
       "<Figure size 432x288 with 1 Axes>"
      ]
     },
     "metadata": {
      "needs_background": "light"
     },
     "output_type": "display_data"
    }
   ],
   "source": [
    "#train first algorithm: Support Vector Machine\n",
    "from sklearn.svm import SVC\n",
    "model = SVC()\n",
    "model.fit(X_train,y_train)\n",
    "#plotting model confidence \n",
    "plot_surface(model,X_train,y_train, (-2,2), (0,2))"
   ]
  },
  {
   "cell_type": "code",
   "execution_count": 15,
   "metadata": {
    "slideshow": {
     "slide_type": "subslide"
    }
   },
   "outputs": [
    {
     "data": {
      "image/png": "[encoded data removed]",
      "text/plain": [
       "<Figure size 432x288 with 1 Axes>"
      ]
     },
     "metadata": {
      "needs_background": "light"
     },
     "output_type": "display_data"
    }
   ],
   "source": [
    "#now the same problem with a different algorithem: Random Forests\n",
    "from sklearn.ensemble import RandomForestClassifier\n",
    "model = RandomForestClassifier()\n",
    "model.fit(X_train,y_train)\n",
    "#plotting model confidence \n",
    "plot_surface(model,X_train,y_train, (-2,2), (0,2))"
   ]
  },
  {
   "cell_type": "code",
   "execution_count": 16,
   "metadata": {
    "slideshow": {
     "slide_type": "subslide"
    }
   },
   "outputs": [],
   "source": [
    "#predict\n",
    "pred = model.predict(X_test)"
   ]
  },
  {
   "cell_type": "code",
   "execution_count": 17,
   "metadata": {
    "scrolled": true
   },
   "outputs": [
    {
     "data": {
      "image/png": "[encoded data removed]",
      "text/plain": [
       "<Figure size 432x288 with 1 Axes>"
      ]
     },
     "metadata": {
      "needs_background": "light"
     },
     "output_type": "display_data"
    }
   ],
   "source": [
    "#plot inference\n",
    "plot_surface(model,X_test,pred, (-2,2), (0,2))"
   ]
  },
  {
   "cell_type": "code",
   "execution_count": 18,
   "metadata": {
    "scrolled": true,
    "slideshow": {
     "slide_type": "fragment"
    }
   },
   "outputs": [
    {
     "data": {
      "text/plain": [
       "array([ True,  True,  True,  True,  True,  True,  True,  True,  True,\n",
       "        True])"
      ]
     },
     "execution_count": 18,
     "metadata": {},
     "output_type": "execute_result"
    }
   ],
   "source": [
    "#see if model is correct \n",
    "pred==y_test"
   ]
  },
  {
   "cell_type": "markdown",
   "metadata": {
    "slideshow": {
     "slide_type": "subslide"
    }
   },
   "source": [
    "### Saving and Loading Models\n",
    "Models are stored via ***pickle***, the ***Python*** serialization library https://docs.python.org/3/library/pickle.html. \n"
   ]
  },
  {
   "cell_type": "code",
   "execution_count": 19,
   "metadata": {},
   "outputs": [
    {
     "data": {
      "text/plain": [
       "array([1, 1, 0, 0, 1, 0, 1, 0, 0, 1])"
      ]
     },
     "execution_count": 19,
     "metadata": {},
     "output_type": "execute_result"
    }
   ],
   "source": [
    "import pickle \n",
    "pickle.dump(model, open( \"my_model.p\", \"wb\" ) ) #seave model to fiel\n",
    "model2 = pickle.load(open( \"my_model.p\", \"rb\" ) )#load model from firl\n",
    "model2.predict(X_test)"
   ]
  },
  {
   "cell_type": "markdown",
   "metadata": {
    "slideshow": {
     "slide_type": "slide"
    }
   },
   "source": [
    "## Pre-Processing\n",
    "***SkLearn*** provides a wide range of pre-processing methods on ***NumPy*** arrays and other input."
   ]
  },
  {
   "cell_type": "code",
   "execution_count": 20,
   "metadata": {},
   "outputs": [
    {
     "data": {
      "text/plain": [
       "array([[-0.56511218,  1.27148987],\n",
       "       [-0.88633819, -1.04467509],\n",
       "       [-0.98503309, -1.03589462],\n",
       "       [ 0.90998227, -0.56397597],\n",
       "       [ 1.14776672,  0.43630068],\n",
       "       [-0.77266292,  0.19113879],\n",
       "       [ 0.71494726,  1.11816433],\n",
       "       [-0.55553207, -0.37259745],\n",
       "       [ 0.88783931, -0.32165804],\n",
       "       [-1.11533774, -0.02304808],\n",
       "       [ 1.2880325 ,  2.36598512],\n",
       "       [-0.80740258, -1.06549811],\n",
       "       [ 0.95471234,  2.19035852],\n",
       "       [ 1.05056528, -0.61044368],\n",
       "       [-0.469621  ,  0.93704907],\n",
       "       [ 0.92459479, -0.58322076],\n",
       "       [-1.29689295, -0.36508335],\n",
       "       [-1.1943139 ,  0.626681  ],\n",
       "       [-0.39107677,  1.88853593],\n",
       "       [ 0.95575685,  0.53859969]])"
      ]
     },
     "execution_count": 20,
     "metadata": {},
     "output_type": "execute_result"
    }
   ],
   "source": [
    "#example scaling data\n",
    "from sklearn import preprocessing\n",
    "X_scaled = preprocessing.scale(X_train)\n",
    "\n",
    "X_scaled[:20,:]                                         "
   ]
  },
  {
   "cell_type": "markdown",
   "metadata": {
    "slideshow": {
     "slide_type": "subslide"
    }
   },
   "source": [
    "### Scaling\n",
    "One problem with scaling - as with all other pre-processing methods - is, that we need to find the \"right\" processing steps based on the **train data** and the also apply it to the **test data**. ***SkLearn*** provides ***Scaler*** models to do this:\n"
   ]
  },
  {
   "cell_type": "code",
   "execution_count": 21,
   "metadata": {},
   "outputs": [
    {
     "data": {
      "text/plain": [
       "array([-0.07011222,  0.99204328])"
      ]
     },
     "execution_count": 21,
     "metadata": {},
     "output_type": "execute_result"
    }
   ],
   "source": [
    "scaler = preprocessing.StandardScaler().fit(X_train)\n",
    "scaler.mean_ #get model mean                                 \n"
   ]
  },
  {
   "cell_type": "code",
   "execution_count": 22,
   "metadata": {},
   "outputs": [
    {
     "data": {
      "text/plain": [
       "array([1.08353348, 0.35767373])"
      ]
     },
     "execution_count": 22,
     "metadata": {},
     "output_type": "execute_result"
    }
   ],
   "source": [
    "scaler.scale_ #get scales                                      "
   ]
  },
  {
   "cell_type": "code",
   "execution_count": 23,
   "metadata": {
    "scrolled": true
   },
   "outputs": [
    {
     "data": {
      "text/plain": [
       "array([[-0.56511218,  1.27148987],\n",
       "       [-0.88633819, -1.04467509],\n",
       "       [-0.98503309, -1.03589462],\n",
       "       [ 0.90998227, -0.56397597],\n",
       "       [ 1.14776672,  0.43630068],\n",
       "       [-0.77266292,  0.19113879],\n",
       "       [ 0.71494726,  1.11816433],\n",
       "       [-0.55553207, -0.37259745],\n",
       "       [ 0.88783931, -0.32165804],\n",
       "       [-1.11533774, -0.02304808],\n",
       "       [ 1.2880325 ,  2.36598512],\n",
       "       [-0.80740258, -1.06549811],\n",
       "       [ 0.95471234,  2.19035852],\n",
       "       [ 1.05056528, -0.61044368],\n",
       "       [-0.469621  ,  0.93704907],\n",
       "       [ 0.92459479, -0.58322076],\n",
       "       [-1.29689295, -0.36508335],\n",
       "       [-1.1943139 ,  0.626681  ],\n",
       "       [-0.39107677,  1.88853593],\n",
       "       [ 0.95575685,  0.53859969],\n",
       "       [ 0.82886187, -0.40252891],\n",
       "       [-1.07062988,  0.20462735],\n",
       "       [-0.9940773 , -0.28917926],\n",
       "       [ 1.08787207,  0.49070301],\n",
       "       [ 1.15280837,  0.52178687],\n",
       "       [-0.51445945,  1.07519992],\n",
       "       [ 0.81600022, -0.28854361],\n",
       "       [-1.64326142, -0.26957574],\n",
       "       [-0.87081517, -1.45030364],\n",
       "       [-0.82916448,  0.80484128],\n",
       "       [-1.2476951 ,  0.05516226],\n",
       "       [ 1.11564728, -0.37673102],\n",
       "       [-1.04625936, -0.57042162],\n",
       "       [ 0.7582533 ,  0.20964889],\n",
       "       [ 1.01161607, -0.33487471],\n",
       "       [-0.63712463, -1.0579658 ],\n",
       "       [ 0.62454602, -1.18001239],\n",
       "       [-1.04515493, -0.83959074],\n",
       "       [-1.13448231, -0.38774929],\n",
       "       [ 0.89896407, -1.78349601],\n",
       "       [ 1.19418492,  2.7766922 ],\n",
       "       [-1.02444633,  0.3594848 ],\n",
       "       [-0.9433913 , -0.18221487],\n",
       "       [ 1.21214479,  0.22519178],\n",
       "       [ 0.77674261, -1.80703035],\n",
       "       [-1.67842307, -1.54010046],\n",
       "       [ 0.82313601,  0.55199608],\n",
       "       [ 0.79062506, -0.60602146],\n",
       "       [ 0.84841705,  1.04514616],\n",
       "       [-1.35247224, -2.47741659],\n",
       "       [ 0.87907346, -0.81601624],\n",
       "       [-0.43593272,  0.99354506],\n",
       "       [-1.48993594,  0.94090278],\n",
       "       [ 0.90319152, -0.06991292],\n",
       "       [-0.7500992 , -0.49264777],\n",
       "       [ 0.92891966, -1.03002751],\n",
       "       [-0.74148479, -0.33778688],\n",
       "       [ 1.18906699, -0.07680528],\n",
       "       [ 1.06587624,  1.83009038],\n",
       "       [-1.03275595, -1.0298625 ],\n",
       "       [-1.00262966, -0.3696652 ],\n",
       "       [-1.07888714, -0.12365786],\n",
       "       [-0.79687899,  0.01624912],\n",
       "       [ 0.98627077, -0.86714209],\n",
       "       [ 0.84976625, -1.52414918],\n",
       "       [ 1.01848512,  1.33330503],\n",
       "       [-1.2660234 ,  0.28752899],\n",
       "       [-0.84378106, -0.15609767],\n",
       "       [-1.54081604,  0.6615817 ],\n",
       "       [-1.28884747, -0.31677633],\n",
       "       [ 1.15113501,  0.42420789],\n",
       "       [-1.45035903, -0.64398522],\n",
       "       [ 1.01932986,  3.03009795],\n",
       "       [-0.7194606 , -0.28979997],\n",
       "       [ 0.87511031, -0.26989059],\n",
       "       [-0.78221155,  0.05566245],\n",
       "       [ 1.29189843,  1.65680174],\n",
       "       [ 0.95004024,  0.13316571],\n",
       "       [ 0.99973649,  0.49132343],\n",
       "       [-0.51094   ,  0.74090166],\n",
       "       [-1.05439805, -0.17555855],\n",
       "       [-0.71960722, -0.75226457],\n",
       "       [ 0.6347994 ,  0.10101807],\n",
       "       [ 0.99017592,  0.70860865],\n",
       "       [-0.96404771,  0.40094597],\n",
       "       [ 1.01838405,  0.54112654],\n",
       "       [ 0.82657268, -1.21201116],\n",
       "       [ 0.93647986,  0.37569585],\n",
       "       [ 1.05033754, -1.19932034],\n",
       "       [ 1.20161006, -1.02431316]])"
      ]
     },
     "execution_count": 23,
     "metadata": {},
     "output_type": "execute_result"
    }
   ],
   "source": [
    "scaler.transform(X_train)                           \n"
   ]
  },
  {
   "cell_type": "markdown",
   "metadata": {
    "slideshow": {
     "slide_type": "subslide"
    }
   },
   "source": [
    "### Scaler\n",
    "There are many different ***Scaler*** available. See [Examples here](https://scikit-learn.org/stable/auto_examples/preprocessing/plot_all_scaling.html#sphx-glr-auto-examples-preprocessing-plot-all-scaling-py)"
   ]
  },
  {
   "cell_type": "markdown",
   "metadata": {
    "slideshow": {
     "slide_type": "subslide"
    }
   },
   "source": [
    "### Normalization\n",
    "***Normalization*** is the process of scaling **individual samples** to have ***unit norm***. Works just like scaling:"
   ]
  },
  {
   "cell_type": "code",
   "execution_count": 24,
   "metadata": {},
   "outputs": [],
   "source": [
    "normalizer = preprocessing.Normalizer(norm='l2').fit(X)"
   ]
  },
  {
   "cell_type": "markdown",
   "metadata": {
    "slideshow": {
     "slide_type": "subslide"
    }
   },
   "source": [
    "###  Encoding categorical features\n",
    "Often features are not given as continuous values but categorical. For example a person could have features\n",
    "```[\"male\", \"female\"], [\"from Europe\", \"from US\", \"from Asia\"], [\"uses Firefox\", \"uses Chrome\", \"uses Safari\", \"uses Internet Explorer\"]. \n",
    "```\n",
    "<br><br>\n",
    "Such features can be efficiently coded as integers, for instance ``[\"male\", \"from US\", \"uses Internet Explorer\"]`` could be expressed as [0, 1, 3] while ``[\"female\", \"from Asia\", \"uses Chrome\"]`` would be [1, 2, 1]."
   ]
  },
  {
   "cell_type": "code",
   "execution_count": 25,
   "metadata": {
    "slideshow": {
     "slide_type": "subslide"
    }
   },
   "outputs": [
    {
     "data": {
      "text/plain": [
       "array([[0., 1., 1.]])"
      ]
     },
     "execution_count": 25,
     "metadata": {},
     "output_type": "execute_result"
    }
   ],
   "source": [
    "#sklearn can do this out-of the box\n",
    "enc = preprocessing.OrdinalEncoder()\n",
    "X = [['male', 'from US', 'uses Safari'], ['female', 'from Europe', 'uses Firefox']]\n",
    "enc.fit(X)  \n",
    "enc.transform([['female', 'from US', 'uses Safari']])"
   ]
  },
  {
   "cell_type": "code",
   "execution_count": 26,
   "metadata": {
    "scrolled": true
   },
   "outputs": [
    {
     "data": {
      "text/plain": [
       "array([[1., 0., 0.]])"
      ]
     },
     "execution_count": 26,
     "metadata": {},
     "output_type": "execute_result"
    }
   ],
   "source": [
    "enc.transform([['male', 'from Europe', 'uses Firefox']])"
   ]
  },
  {
   "cell_type": "markdown",
   "metadata": {
    "slideshow": {
     "slide_type": "subslide"
    }
   },
   "source": [
    "#### One-Hot Encoding\n",
    "Another possibility to convert categorical features to features is to use a ***one-hot*** or dummy encoding. This transforms each categorical feature with **$n$ categories** possible values into **$n$ categories binary features**, with one of them 1, and all others 0."
   ]
  },
  {
   "cell_type": "code",
   "execution_count": 27,
   "metadata": {
    "slideshow": {
     "slide_type": "fragment"
    }
   },
   "outputs": [
    {
     "data": {
      "text/plain": [
       "array([[1., 0., 0., 1., 0., 1.],\n",
       "       [0., 1., 1., 0., 0., 1.]])"
      ]
     },
     "execution_count": 27,
     "metadata": {},
     "output_type": "execute_result"
    }
   ],
   "source": [
    "enc = preprocessing.OneHotEncoder()\n",
    "X = [['male', 'from US', 'uses Safari'], ['female', 'from Europe', 'uses Firefox']]\n",
    "enc.fit(X)  \n",
    "\n",
    "enc.transform([['female', 'from US', 'uses Safari'],['male', 'from Europe', 'uses Safari']]).toarray()\n"
   ]
  },
  {
   "cell_type": "markdown",
   "metadata": {
    "slideshow": {
     "slide_type": "subslide"
    }
   },
   "source": [
    "### Discretization"
   ]
  },
  {
   "cell_type": "code",
   "execution_count": 28,
   "metadata": {
    "scrolled": true
   },
   "outputs": [
    {
     "data": {
      "text/plain": [
       "array([[0., 0.],\n",
       "       [1., 1.],\n",
       "       [2., 1.],\n",
       "       [2., 1.],\n",
       "       [1., 0.],\n",
       "       [1., 0.],\n",
       "       [0., 0.],\n",
       "       [2., 1.],\n",
       "       [2., 0.],\n",
       "       [0., 0.]])"
      ]
     },
     "execution_count": 28,
     "metadata": {},
     "output_type": "execute_result"
    }
   ],
   "source": [
    "#discretize data by dimension\n",
    "est = preprocessing.KBinsDiscretizer(n_bins=[3, 2], encode='ordinal').fit(X_train)\n",
    "est.transform(X_test)"
   ]
  },
  {
   "cell_type": "markdown",
   "metadata": {
    "slideshow": {
     "slide_type": "subslide"
    }
   },
   "source": [
    "### Custom Transformers\n",
    "***SkLEarn*** also has an easy interface for custom transformation functions"
   ]
  },
  {
   "cell_type": "code",
   "execution_count": 29,
   "metadata": {},
   "outputs": [],
   "source": [
    "from sklearn.preprocessing import FunctionTransformer\n",
    "\n",
    "def myTrans(x):\n",
    "    return np.log1p(x)"
   ]
  },
  {
   "cell_type": "code",
   "execution_count": 30,
   "metadata": {},
   "outputs": [
    {
     "data": {
      "text/plain": [
       "array([[-1.14705762,  0.89478996],\n",
       "       [        nan,  0.4814321 ],\n",
       "       [        nan,  0.48337076],\n",
       "       [ 0.65017916,  0.58239655],\n",
       "       [ 0.77635324,  0.76458214],\n",
       "       [-2.3785849 ,  0.72290432],\n",
       "       [ 0.53330529,  0.87212201],\n",
       "       [-1.11489356,  0.61991765],\n",
       "       [ 0.63757707,  0.62967191],\n",
       "       [        nan,  0.68501399],\n",
       "       [ 0.84394114,  1.04320317],\n",
       "       [-2.89969414,  0.47681947],\n",
       "       [ 0.67516169,  1.02082262],\n",
       "       [ 0.72668371,  0.5730698 ],\n",
       "       [-0.8650329 ,  0.84466631],\n",
       "       [ 0.65840935,  0.57854439],\n",
       "       [        nan,  0.6213625 ],\n",
       "       [        nan,  0.79578978],\n",
       "       [-0.68093603,  0.98115031],\n",
       "       [ 0.67573768,  0.78147222],\n",
       "       [ 0.60321556,  0.61414145],\n",
       "       [        nan,  0.72524311],\n",
       "       [        nan,  0.63584188],\n",
       "       [ 0.74604015,  0.77359974],\n",
       "       [ 0.77886342,  0.77871585],\n",
       "       [-0.98764244,  0.86567681],\n",
       "       [ 0.59556266,  0.63596226],\n",
       "       [        nan,  0.63954761],\n",
       "       [        nan,  0.38751006],\n",
       "       [-3.45902867,  0.82413766],\n",
       "       [        nan,  0.69901661],\n",
       "       [ 0.76021171,  0.61912193],\n",
       "       [        nan,  0.581108  ],\n",
       "       [ 0.5604615 ,  0.7261124 ],\n",
       "       [ 0.70606719,  0.62715021],\n",
       "       [-1.42902691,  0.47849046],\n",
       "       [ 0.47412283,  0.45106533],\n",
       "       [        nan,  0.52575979],\n",
       "       [        nan,  0.6169978 ],\n",
       "       [ 0.64392829,  0.30316185],\n",
       "       [ 0.79922964,  1.09366445],\n",
       "       [        nan,  0.75170923],\n",
       "       [        nan,  0.65589683],\n",
       "       [ 0.80794231,  0.72879829],\n",
       "       [ 0.57183478,  0.29692621],\n",
       "       [        nan,  0.36546903],\n",
       "       [ 0.59981581,  0.78366306],\n",
       "       [ 0.58029003,  0.57396116],\n",
       "       [ 0.61474017,  0.86114354],\n",
       "       [        nan,  0.10069244],\n",
       "       [ 0.63254401,  0.5307316 ],\n",
       "       [-0.7818908 ,  0.85331185],\n",
       "       [        nan,  0.84525842],\n",
       "       [ 0.64633124,  0.67652849],\n",
       "       [-2.14446932,  0.59654603],\n",
       "       [ 0.6608323 ,  0.48466408],\n",
       "       [-2.06779619,  0.62659372],\n",
       "       [ 0.79673288,  0.67527443],\n",
       "       [ 0.73467311,  0.9732828 ],\n",
       "       [        nan,  0.48470043],\n",
       "       [        nan,  0.62048173],\n",
       "       [        nan,  0.66670778],\n",
       "       [-2.7114152 ,  0.69207419],\n",
       "       [ 0.69241951,  0.51991777],\n",
       "       [ 0.61553042,  0.36941999],\n",
       "       [ 0.70973411,  0.90378545],\n",
       "       [        nan,  0.73949859],\n",
       "       [-4.15902686,  0.6607331 ],\n",
       "       [        nan,  0.80140664],\n",
       "       [        nan,  0.63060172],\n",
       "       [ 0.77803097,  0.76256657],\n",
       "       [        nan,  0.56628305],\n",
       "       [ 0.71018413,  1.12357469],\n",
       "       [-1.89493486,  0.63572432],\n",
       "       [ 0.63026015,  0.6394882 ],\n",
       "       [-2.49695443,  0.69910553],\n",
       "       [ 0.84574079,  0.94958536],\n",
       "       [ 0.67258124,  0.71278958],\n",
       "       [ 0.69969358,  0.77370211],\n",
       "       [-0.97745578,  0.81405614],\n",
       "       [        nan,  0.65713164],\n",
       "       [-1.89599221,  0.54405419],\n",
       "       [ 0.48101416,  0.70713627],\n",
       "       [ 0.69453449,  0.80892553],\n",
       "       [        nan,  0.75867792],\n",
       "       [ 0.70968026,  0.78188583],\n",
       "       [ 0.60185773,  0.44374867],\n",
       "       [ 0.66505376,  0.75443973],\n",
       "       [ 0.72656439,  0.44665689],\n",
       "       [ 0.80284092,  0.48592211]])"
      ]
     },
     "execution_count": 30,
     "metadata": {},
     "output_type": "execute_result"
    }
   ],
   "source": [
    "transformer = FunctionTransformer(myTrans)\n",
    "transformer.transform(X_train)"
   ]
  },
  {
   "cell_type": "markdown",
   "metadata": {
    "slideshow": {
     "slide_type": "slide"
    }
   },
   "source": [
    "## Pipelines\n",
    "***Pipeline*** can be used to chain multiple estimators into one. This is useful as there is often a fixed sequence of steps in processing the data, for example feature selection, normalization and classification. Pipeline serves multiple purposes here:\n",
    "\n",
    "* Convenience and encapsulation\n",
    "    \n",
    "* Joint parameter selection\n",
    "   \n",
    "* Safety\n",
    "   \n",
    "\n",
    "All estimators in a pipeline, except the last one, must be transformers (i.e. must have a transform method). The last estimator may be any type (transformer, classifier, etc.).\n",
    "\n",
    "Docs: https://scikit-learn.org/stable/modules/compose.html#pipeline"
   ]
  },
  {
   "cell_type": "code",
   "execution_count": 31,
   "metadata": {
    "slideshow": {
     "slide_type": "subslide"
    }
   },
   "outputs": [],
   "source": [
    "from sklearn.pipeline import make_pipeline\n",
    "normalizer = preprocessing.Normalizer(norm='l2')\n",
    "model = RandomForestClassifier()\n",
    "myPipeline = make_pipeline(normalizer,model)"
   ]
  },
  {
   "cell_type": "code",
   "execution_count": 32,
   "metadata": {},
   "outputs": [
    {
     "data": {
      "text/plain": [
       "Pipeline(steps=[('normalizer', Normalizer()),\n",
       "                ('randomforestclassifier', RandomForestClassifier())])"
      ]
     },
     "execution_count": 32,
     "metadata": {},
     "output_type": "execute_result"
    }
   ],
   "source": [
    "#now train it\n",
    "myPipeline.fit(X_train,y_train)"
   ]
  },
  {
   "cell_type": "code",
   "execution_count": 33,
   "metadata": {
    "scrolled": true
   },
   "outputs": [
    {
     "data": {
      "text/plain": [
       "array([1, 1, 0, 0, 1, 0, 1, 0, 0, 1])"
      ]
     },
     "execution_count": 33,
     "metadata": {},
     "output_type": "execute_result"
    }
   ],
   "source": [
    "myPipeline.predict(X_test) "
   ]
  },
  {
   "cell_type": "markdown",
   "metadata": {
    "slideshow": {
     "slide_type": "slide"
    }
   },
   "source": [
    "## Now... hands on!"
   ]
  }
 ],
 "metadata": {
  "celltoolbar": "Slideshow",
  "kernelspec": {
   "display_name": "Python 3",
   "language": "python",
   "name": "python3"
  },
  "language_info": {
   "codemirror_mode": {
    "name": "ipython",
    "version": 3
   },
   "file_extension": ".py",
   "mimetype": "text/x-python",
   "name": "python",
   "nbconvert_exporter": "python",
   "pygments_lexer": "ipython3",
   "version": "3.8.3"
  },
  "livereveal": {
   "enable_chalkboard": true,
   "footer": "Janis Keuper - SS21",
   "header": "Data Science: Block 4"
  }
 },
 "nbformat": 4,
 "nbformat_minor": 4
}
